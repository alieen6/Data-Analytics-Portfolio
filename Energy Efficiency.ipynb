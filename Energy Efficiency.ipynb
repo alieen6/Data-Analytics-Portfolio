{
 "cells": [
  {
   "cell_type": "markdown",
   "metadata": {},
   "source": [
    "# Energy Efficiency"
   ]
  },
  {
   "cell_type": "markdown",
   "metadata": {},
   "source": [
    "#### Notebook Contents\n"
   ]
  },
  {
   "cell_type": "markdown",
   "metadata": {},
   "source": [
    "- Data input and summary\n",
    "- Exploratory analysis\n",
    "- Creating Energy Efficiency Class\n",
    "- Data prep for models\n",
    "- Heating and Cooling node separate regression models (base models + Neural networks)\n",
    "- Energy Efficiency 2-class, classification models (base models + Neural networks)"
   ]
  },
  {
   "cell_type": "code",
   "execution_count": 1,
   "metadata": {
    "collapsed": true
   },
   "outputs": [],
   "source": [
    "#Loading required libraries\n",
    "import numpy as np\n",
    "import pandas as pd\n",
    "%matplotlib inline\n",
    "import matplotlib.pyplot as plt\n",
    "import seaborn as sns\n",
    "plt.style.use('seaborn') #set same style for all plots\n",
    "pd.options.mode.chained_assignment = None  # suppress chained assignment warning"
   ]
  },
  {
   "cell_type": "markdown",
   "metadata": {},
   "source": [
    "#### Data import and summaries"
   ]
  },
  {
   "cell_type": "code",
   "execution_count": 2,
   "metadata": {},
   "outputs": [
    {
     "name": "stdout",
     "output_type": "stream",
     "text": [
      "Shape of input\n",
      "(768, 10)\n",
      "First 5 rows\n",
      "     X1     X2     X3      X4   X5  X6   X7  X8     Y1     Y2\n",
      "0  0.98  514.5  294.0  110.25  7.0   2  0.0   0  15.55  21.33\n",
      "1  0.98  514.5  294.0  110.25  7.0   3  0.0   0  15.55  21.33\n",
      "2  0.98  514.5  294.0  110.25  7.0   4  0.0   0  15.55  21.33\n",
      "3  0.98  514.5  294.0  110.25  7.0   5  0.0   0  15.55  21.33\n",
      "4  0.90  563.5  318.5  122.50  7.0   2  0.0   0  20.84  28.28\n",
      "Missing values\n",
      "X1    0\n",
      "X2    0\n",
      "X3    0\n",
      "X4    0\n",
      "X5    0\n",
      "X6    0\n",
      "X7    0\n",
      "X8    0\n",
      "Y1    0\n",
      "Y2    0\n",
      "dtype: int64\n"
     ]
    }
   ],
   "source": [
    "energy_df = pd.read_csv('ENB2012_data.csv')\n",
    "print('Shape of input')\n",
    "print(energy_df.shape)\n",
    "print('First 5 rows')\n",
    "print(energy_df.head())\n",
    "print('Missing values')\n",
    "print(energy_df.isnull().sum())"
   ]
  },
  {
   "cell_type": "markdown",
   "metadata": {},
   "source": [
    "All the datapoints are numeric. There is no no need of any missing value imputation."
   ]
  },
  {
   "cell_type": "code",
   "execution_count": 3,
   "metadata": {},
   "outputs": [
    {
     "data": {
      "text/html": [
       "<div>\n",
       "<style>\n",
       "    .dataframe thead tr:only-child th {\n",
       "        text-align: right;\n",
       "    }\n",
       "\n",
       "    .dataframe thead th {\n",
       "        text-align: left;\n",
       "    }\n",
       "\n",
       "    .dataframe tbody tr th {\n",
       "        vertical-align: top;\n",
       "    }\n",
       "</style>\n",
       "<table border=\"1\" class=\"dataframe\">\n",
       "  <thead>\n",
       "    <tr style=\"text-align: right;\">\n",
       "      <th></th>\n",
       "      <th>relative_compactness</th>\n",
       "      <th>surface_area</th>\n",
       "      <th>wall_area</th>\n",
       "      <th>roof_area</th>\n",
       "      <th>overall_height</th>\n",
       "      <th>orientation</th>\n",
       "      <th>glazing_area</th>\n",
       "      <th>glazing_area_distribution</th>\n",
       "      <th>heating_load</th>\n",
       "      <th>cooling_load</th>\n",
       "    </tr>\n",
       "  </thead>\n",
       "  <tbody>\n",
       "    <tr>\n",
       "      <th>0</th>\n",
       "      <td>0.98</td>\n",
       "      <td>514.5</td>\n",
       "      <td>294.0</td>\n",
       "      <td>110.25</td>\n",
       "      <td>7.0</td>\n",
       "      <td>2</td>\n",
       "      <td>0.0</td>\n",
       "      <td>0</td>\n",
       "      <td>15.55</td>\n",
       "      <td>21.33</td>\n",
       "    </tr>\n",
       "    <tr>\n",
       "      <th>1</th>\n",
       "      <td>0.98</td>\n",
       "      <td>514.5</td>\n",
       "      <td>294.0</td>\n",
       "      <td>110.25</td>\n",
       "      <td>7.0</td>\n",
       "      <td>3</td>\n",
       "      <td>0.0</td>\n",
       "      <td>0</td>\n",
       "      <td>15.55</td>\n",
       "      <td>21.33</td>\n",
       "    </tr>\n",
       "    <tr>\n",
       "      <th>2</th>\n",
       "      <td>0.98</td>\n",
       "      <td>514.5</td>\n",
       "      <td>294.0</td>\n",
       "      <td>110.25</td>\n",
       "      <td>7.0</td>\n",
       "      <td>4</td>\n",
       "      <td>0.0</td>\n",
       "      <td>0</td>\n",
       "      <td>15.55</td>\n",
       "      <td>21.33</td>\n",
       "    </tr>\n",
       "    <tr>\n",
       "      <th>3</th>\n",
       "      <td>0.98</td>\n",
       "      <td>514.5</td>\n",
       "      <td>294.0</td>\n",
       "      <td>110.25</td>\n",
       "      <td>7.0</td>\n",
       "      <td>5</td>\n",
       "      <td>0.0</td>\n",
       "      <td>0</td>\n",
       "      <td>15.55</td>\n",
       "      <td>21.33</td>\n",
       "    </tr>\n",
       "    <tr>\n",
       "      <th>4</th>\n",
       "      <td>0.90</td>\n",
       "      <td>563.5</td>\n",
       "      <td>318.5</td>\n",
       "      <td>122.50</td>\n",
       "      <td>7.0</td>\n",
       "      <td>2</td>\n",
       "      <td>0.0</td>\n",
       "      <td>0</td>\n",
       "      <td>20.84</td>\n",
       "      <td>28.28</td>\n",
       "    </tr>\n",
       "  </tbody>\n",
       "</table>\n",
       "</div>"
      ],
      "text/plain": [
       "   relative_compactness  surface_area  wall_area  roof_area  overall_height  \\\n",
       "0                  0.98         514.5      294.0     110.25             7.0   \n",
       "1                  0.98         514.5      294.0     110.25             7.0   \n",
       "2                  0.98         514.5      294.0     110.25             7.0   \n",
       "3                  0.98         514.5      294.0     110.25             7.0   \n",
       "4                  0.90         563.5      318.5     122.50             7.0   \n",
       "\n",
       "   orientation  glazing_area  glazing_area_distribution  heating_load  \\\n",
       "0            2           0.0                          0         15.55   \n",
       "1            3           0.0                          0         15.55   \n",
       "2            4           0.0                          0         15.55   \n",
       "3            5           0.0                          0         15.55   \n",
       "4            2           0.0                          0         20.84   \n",
       "\n",
       "   cooling_load  \n",
       "0         21.33  \n",
       "1         21.33  \n",
       "2         21.33  \n",
       "3         21.33  \n",
       "4         28.28  "
      ]
     },
     "execution_count": 3,
     "metadata": {},
     "output_type": "execute_result"
    }
   ],
   "source": [
    "#Assigning column names\n",
    "energy_df.columns = ['relative_compactness','surface_area','wall_area','roof_area','overall_height','orientation','glazing_area','glazing_area_distribution','heating_load','cooling_load']\n",
    "energy_df.head()"
   ]
  },
  {
   "cell_type": "markdown",
   "metadata": {},
   "source": [
    "### EDA"
   ]
  },
  {
   "cell_type": "code",
   "execution_count": 56,
   "metadata": {
    "scrolled": true
   },
   "outputs": [
    {
     "data": {
      "text/html": [
       "<div>\n",
       "<style>\n",
       "    .dataframe thead tr:only-child th {\n",
       "        text-align: right;\n",
       "    }\n",
       "\n",
       "    .dataframe thead th {\n",
       "        text-align: left;\n",
       "    }\n",
       "\n",
       "    .dataframe tbody tr th {\n",
       "        vertical-align: top;\n",
       "    }\n",
       "</style>\n",
       "<table border=\"1\" class=\"dataframe\">\n",
       "  <thead>\n",
       "    <tr style=\"text-align: right;\">\n",
       "      <th></th>\n",
       "      <th>relative_compactness</th>\n",
       "      <th>surface_area</th>\n",
       "      <th>wall_area</th>\n",
       "      <th>roof_area</th>\n",
       "      <th>overall_height</th>\n",
       "      <th>orientation</th>\n",
       "      <th>glazing_area</th>\n",
       "      <th>glazing_area_distribution</th>\n",
       "      <th>heating_load</th>\n",
       "      <th>cooling_load</th>\n",
       "    </tr>\n",
       "  </thead>\n",
       "  <tbody>\n",
       "    <tr>\n",
       "      <th>count</th>\n",
       "      <td>768.000000</td>\n",
       "      <td>768.000000</td>\n",
       "      <td>768.000000</td>\n",
       "      <td>768.000000</td>\n",
       "      <td>768.00000</td>\n",
       "      <td>768.000000</td>\n",
       "      <td>768.000000</td>\n",
       "      <td>768.00000</td>\n",
       "      <td>768.000000</td>\n",
       "      <td>768.000000</td>\n",
       "    </tr>\n",
       "    <tr>\n",
       "      <th>mean</th>\n",
       "      <td>0.764167</td>\n",
       "      <td>671.708333</td>\n",
       "      <td>318.500000</td>\n",
       "      <td>176.604167</td>\n",
       "      <td>5.25000</td>\n",
       "      <td>3.500000</td>\n",
       "      <td>0.234375</td>\n",
       "      <td>2.81250</td>\n",
       "      <td>22.307201</td>\n",
       "      <td>24.587760</td>\n",
       "    </tr>\n",
       "    <tr>\n",
       "      <th>std</th>\n",
       "      <td>0.105777</td>\n",
       "      <td>88.086116</td>\n",
       "      <td>43.626481</td>\n",
       "      <td>45.165950</td>\n",
       "      <td>1.75114</td>\n",
       "      <td>1.118763</td>\n",
       "      <td>0.133221</td>\n",
       "      <td>1.55096</td>\n",
       "      <td>10.090196</td>\n",
       "      <td>9.513306</td>\n",
       "    </tr>\n",
       "    <tr>\n",
       "      <th>min</th>\n",
       "      <td>0.620000</td>\n",
       "      <td>514.500000</td>\n",
       "      <td>245.000000</td>\n",
       "      <td>110.250000</td>\n",
       "      <td>3.50000</td>\n",
       "      <td>2.000000</td>\n",
       "      <td>0.000000</td>\n",
       "      <td>0.00000</td>\n",
       "      <td>6.010000</td>\n",
       "      <td>10.900000</td>\n",
       "    </tr>\n",
       "    <tr>\n",
       "      <th>25%</th>\n",
       "      <td>0.682500</td>\n",
       "      <td>606.375000</td>\n",
       "      <td>294.000000</td>\n",
       "      <td>140.875000</td>\n",
       "      <td>3.50000</td>\n",
       "      <td>2.750000</td>\n",
       "      <td>0.100000</td>\n",
       "      <td>1.75000</td>\n",
       "      <td>12.992500</td>\n",
       "      <td>15.620000</td>\n",
       "    </tr>\n",
       "    <tr>\n",
       "      <th>50%</th>\n",
       "      <td>0.750000</td>\n",
       "      <td>673.750000</td>\n",
       "      <td>318.500000</td>\n",
       "      <td>183.750000</td>\n",
       "      <td>5.25000</td>\n",
       "      <td>3.500000</td>\n",
       "      <td>0.250000</td>\n",
       "      <td>3.00000</td>\n",
       "      <td>18.950000</td>\n",
       "      <td>22.080000</td>\n",
       "    </tr>\n",
       "    <tr>\n",
       "      <th>75%</th>\n",
       "      <td>0.830000</td>\n",
       "      <td>741.125000</td>\n",
       "      <td>343.000000</td>\n",
       "      <td>220.500000</td>\n",
       "      <td>7.00000</td>\n",
       "      <td>4.250000</td>\n",
       "      <td>0.400000</td>\n",
       "      <td>4.00000</td>\n",
       "      <td>31.667500</td>\n",
       "      <td>33.132500</td>\n",
       "    </tr>\n",
       "    <tr>\n",
       "      <th>max</th>\n",
       "      <td>0.980000</td>\n",
       "      <td>808.500000</td>\n",
       "      <td>416.500000</td>\n",
       "      <td>220.500000</td>\n",
       "      <td>7.00000</td>\n",
       "      <td>5.000000</td>\n",
       "      <td>0.400000</td>\n",
       "      <td>5.00000</td>\n",
       "      <td>43.100000</td>\n",
       "      <td>48.030000</td>\n",
       "    </tr>\n",
       "  </tbody>\n",
       "</table>\n",
       "</div>"
      ],
      "text/plain": [
       "       relative_compactness  surface_area   wall_area   roof_area  \\\n",
       "count            768.000000    768.000000  768.000000  768.000000   \n",
       "mean               0.764167    671.708333  318.500000  176.604167   \n",
       "std                0.105777     88.086116   43.626481   45.165950   \n",
       "min                0.620000    514.500000  245.000000  110.250000   \n",
       "25%                0.682500    606.375000  294.000000  140.875000   \n",
       "50%                0.750000    673.750000  318.500000  183.750000   \n",
       "75%                0.830000    741.125000  343.000000  220.500000   \n",
       "max                0.980000    808.500000  416.500000  220.500000   \n",
       "\n",
       "       overall_height  orientation  glazing_area  glazing_area_distribution  \\\n",
       "count       768.00000   768.000000    768.000000                  768.00000   \n",
       "mean          5.25000     3.500000      0.234375                    2.81250   \n",
       "std           1.75114     1.118763      0.133221                    1.55096   \n",
       "min           3.50000     2.000000      0.000000                    0.00000   \n",
       "25%           3.50000     2.750000      0.100000                    1.75000   \n",
       "50%           5.25000     3.500000      0.250000                    3.00000   \n",
       "75%           7.00000     4.250000      0.400000                    4.00000   \n",
       "max           7.00000     5.000000      0.400000                    5.00000   \n",
       "\n",
       "       heating_load  cooling_load  \n",
       "count    768.000000    768.000000  \n",
       "mean      22.307201     24.587760  \n",
       "std       10.090196      9.513306  \n",
       "min        6.010000     10.900000  \n",
       "25%       12.992500     15.620000  \n",
       "50%       18.950000     22.080000  \n",
       "75%       31.667500     33.132500  \n",
       "max       43.100000     48.030000  "
      ]
     },
     "execution_count": 56,
     "metadata": {},
     "output_type": "execute_result"
    }
   ],
   "source": [
    "#Summary statistics on the database\n",
    "energy_df.describe()"
   ]
  },
  {
   "cell_type": "code",
   "execution_count": 53,
   "metadata": {
    "scrolled": true
   },
   "outputs": [
    {
     "name": "stdout",
     "output_type": "stream",
     "text": [
      "Correlation Between X and Y\n",
      "                           heating_load  cooling_load\n",
      "relative_compactness           0.622272      0.634339\n",
      "surface_area                  -0.658120     -0.672999\n",
      "wall_area                      0.455671      0.427117\n",
      "roof_area                     -0.861828     -0.862547\n",
      "overall_height                 0.889431      0.895785\n",
      "orientation                   -0.002587      0.014290\n",
      "glazing_area                   0.269841      0.207505\n",
      "glazing_area_distribution      0.087368      0.050525\n",
      "heating_load                   1.000000      0.975862\n",
      "cooling_load                   0.975862      1.000000\n"
     ]
    }
   ],
   "source": [
    "#Assessing the correlation between feature and response variables:\n",
    "correlation_mat = energy_df.corr()\n",
    "print(\"Correlation Between X and Y\")\n",
    "print(correlation_mat.iloc[:,8:10])"
   ]
  },
  {
   "cell_type": "markdown",
   "metadata": {},
   "source": [
    "From the Correlation table above we can conclude that Heating Load and Cooling Load are highly correlated and their correlation with the other features are almost identical, therefore we will proceed the EDA with only one of the response variables. \n",
    "\n",
    "We also notice that 'Orientation', and both 'Glazing Area' variables have almost no correlation with the response variables, therefore we will exclude them from the EDA since the scatterplot will be inconclusive."
   ]
  },
  {
   "cell_type": "code",
   "execution_count": 55,
   "metadata": {
    "scrolled": false
   },
   "outputs": [
    {
     "data": {
      "text/plain": [
       "<matplotlib.figure.Figure at 0x1e3db7ddf60>"
      ]
     },
     "metadata": {},
     "output_type": "display_data"
    },
    {
     "data": {
      "image/png": "[encoded data removed]",
      "text/plain": [
       "<matplotlib.figure.Figure at 0x1e3db7dd898>"
      ]
     },
     "metadata": {},
     "output_type": "display_data"
    }
   ],
   "source": [
    "fig = plt.figure(figsize = (5,5))\n",
    "ax = sns.pairplot(x_vars=['relative_compactness', 'surface_area', 'wall_area', 'roof_area',\n",
    "       'overall_height'],y_vars=['heating_load'] ,data=energy_df)\n",
    "ax.fig.suptitle('Scatterplot Features vs Heating Load')\n",
    "plt.show()"
   ]
  },
  {
   "cell_type": "markdown",
   "metadata": {},
   "source": [
    "Lower compactness is mostly associated with lower energy loads, as we can clearly see two clusters. We can also infer the same for surface area, but with oposite signs (higher surface = lower loads).\n",
    "\n",
    "The graph above also indicates that the higher the wall area, the higher the energy loads. This relationship is not straightfoward, but we can see a slight positive trend.\n",
    "\n",
    "Higher roof area are more associated with lower energy loads as seen in the graph. However, the data given only shows 4 different roof areas, making it difficult to infer the relationship.\n",
    "\n",
    "From the pairplot above we can see that Overall Height has only two values, but the data shows that higher heights are associated with higher loads as well."
   ]
  },
  {
   "cell_type": "markdown",
   "metadata": {},
   "source": [
    "#### Combining heating and cooling load"
   ]
  },
  {
   "cell_type": "code",
   "execution_count": 4,
   "metadata": {
    "scrolled": true
   },
   "outputs": [
    {
     "data": {
      "image/png": "[encoded data removed]",
      "text/plain": [
       "<matplotlib.figure.Figure at 0x22f1f235f28>"
      ]
     },
     "metadata": {},
     "output_type": "display_data"
    }
   ],
   "source": [
    "energy_df['total_load'] = energy_df['heating_load'] + energy_df['cooling_load']\n",
    "sns.distplot(energy_df['total_load'])\n",
    "plt.title('Total load');"
   ]
  },
  {
   "cell_type": "markdown",
   "metadata": {},
   "source": [
    "### Creating efficiency class based on above distribution"
   ]
  },
  {
   "cell_type": "code",
   "execution_count": 5,
   "metadata": {
    "scrolled": true
   },
   "outputs": [
    {
     "data": {
      "text/plain": [
       "efficiency_class\n",
       "0    394\n",
       "1    259\n",
       "2    115\n",
       "Name: efficiency_class, dtype: int64"
      ]
     },
     "execution_count": 5,
     "metadata": {},
     "output_type": "execute_result"
    }
   ],
   "source": [
    "energy_df['efficiency_class'] = 1\n",
    "energy_df.loc[energy_df.total_load < 45, ['efficiency_class']] = 0\n",
    "energy_df.loc[energy_df.total_load > 70 , ['efficiency_class']] = 2\n",
    "energy_df.groupby('efficiency_class')['efficiency_class'].count()"
   ]
  },
  {
   "cell_type": "markdown",
   "metadata": {},
   "source": [
    "### Data prep for modelling"
   ]
  },
  {
   "cell_type": "code",
   "execution_count": 6,
   "metadata": {},
   "outputs": [
    {
     "data": {
      "text/html": [
       "<div>\n",
       "<style>\n",
       "    .dataframe thead tr:only-child th {\n",
       "        text-align: right;\n",
       "    }\n",
       "\n",
       "    .dataframe thead th {\n",
       "        text-align: left;\n",
       "    }\n",
       "\n",
       "    .dataframe tbody tr th {\n",
       "        vertical-align: top;\n",
       "    }\n",
       "</style>\n",
       "<table border=\"1\" class=\"dataframe\">\n",
       "  <thead>\n",
       "    <tr style=\"text-align: right;\">\n",
       "      <th></th>\n",
       "      <th>relative_compactness</th>\n",
       "      <th>surface_area</th>\n",
       "      <th>wall_area</th>\n",
       "      <th>roof_area</th>\n",
       "      <th>overall_height</th>\n",
       "      <th>orientation</th>\n",
       "      <th>glazing_area</th>\n",
       "      <th>glazing_area_distribution</th>\n",
       "    </tr>\n",
       "  </thead>\n",
       "  <tbody>\n",
       "    <tr>\n",
       "      <th>0</th>\n",
       "      <td>0.98</td>\n",
       "      <td>514.5</td>\n",
       "      <td>294.0</td>\n",
       "      <td>110.25</td>\n",
       "      <td>7.0</td>\n",
       "      <td>2</td>\n",
       "      <td>0.0</td>\n",
       "      <td>0</td>\n",
       "    </tr>\n",
       "    <tr>\n",
       "      <th>1</th>\n",
       "      <td>0.98</td>\n",
       "      <td>514.5</td>\n",
       "      <td>294.0</td>\n",
       "      <td>110.25</td>\n",
       "      <td>7.0</td>\n",
       "      <td>3</td>\n",
       "      <td>0.0</td>\n",
       "      <td>0</td>\n",
       "    </tr>\n",
       "    <tr>\n",
       "      <th>2</th>\n",
       "      <td>0.98</td>\n",
       "      <td>514.5</td>\n",
       "      <td>294.0</td>\n",
       "      <td>110.25</td>\n",
       "      <td>7.0</td>\n",
       "      <td>4</td>\n",
       "      <td>0.0</td>\n",
       "      <td>0</td>\n",
       "    </tr>\n",
       "    <tr>\n",
       "      <th>3</th>\n",
       "      <td>0.98</td>\n",
       "      <td>514.5</td>\n",
       "      <td>294.0</td>\n",
       "      <td>110.25</td>\n",
       "      <td>7.0</td>\n",
       "      <td>5</td>\n",
       "      <td>0.0</td>\n",
       "      <td>0</td>\n",
       "    </tr>\n",
       "    <tr>\n",
       "      <th>4</th>\n",
       "      <td>0.90</td>\n",
       "      <td>563.5</td>\n",
       "      <td>318.5</td>\n",
       "      <td>122.50</td>\n",
       "      <td>7.0</td>\n",
       "      <td>2</td>\n",
       "      <td>0.0</td>\n",
       "      <td>0</td>\n",
       "    </tr>\n",
       "  </tbody>\n",
       "</table>\n",
       "</div>"
      ],
      "text/plain": [
       "   relative_compactness  surface_area  wall_area  roof_area  overall_height  \\\n",
       "0                  0.98         514.5      294.0     110.25             7.0   \n",
       "1                  0.98         514.5      294.0     110.25             7.0   \n",
       "2                  0.98         514.5      294.0     110.25             7.0   \n",
       "3                  0.98         514.5      294.0     110.25             7.0   \n",
       "4                  0.90         563.5      318.5     122.50             7.0   \n",
       "\n",
       "   orientation  glazing_area  glazing_area_distribution  \n",
       "0            2           0.0                          0  \n",
       "1            3           0.0                          0  \n",
       "2            4           0.0                          0  \n",
       "3            5           0.0                          0  \n",
       "4            2           0.0                          0  "
      ]
     },
     "execution_count": 6,
     "metadata": {},
     "output_type": "execute_result"
    }
   ],
   "source": [
    "X = energy_df.iloc[:,0:8]\n",
    "y_cool = energy_df['heating_load'].values.ravel()\n",
    "y_heat = energy_df['cooling_load'].values.ravel()\n",
    "y_eff_class = energy_df['efficiency_class'].values.ravel()\n",
    "X.head()"
   ]
  },
  {
   "cell_type": "code",
   "execution_count": 7,
   "metadata": {
    "collapsed": true
   },
   "outputs": [],
   "source": [
    "from sklearn.preprocessing import MinMaxScaler\n",
    "from sklearn.model_selection import train_test_split\n",
    "\n",
    "scaler = MinMaxScaler()\n",
    "\n",
    "#Heating load\n",
    "X_train_heat, X_test_heat, y_train_heat, y_test_heat = train_test_split(X, y_heat, test_size = 0.2, random_state = 10)\n",
    "\n",
    "X_train_heat = scaler.fit_transform(X_train_heat)\n",
    "X_test_heat = scaler.transform(X_test_heat)\n",
    "\n",
    "#Cooling load\n",
    "X_train_cool, X_test_cool, y_train_cool, y_test_cool = train_test_split(X, y_cool, test_size = 0.2, random_state = 10)\n",
    "\n",
    "X_train_cool = scaler.fit_transform(X_train_cool)\n",
    "X_test_cool = scaler.transform(X_test_cool)\n",
    "\n",
    "#Efficiency classifier\n",
    "X_train_eff_class, X_test_eff_class, y_train_eff_class, y_test_eff_class = train_test_split(X, y_eff_class, test_size = 0.2, random_state = 10)\n",
    "\n",
    "X_train_eff_class = scaler.fit_transform(X_train_eff_class)\n",
    "X_test_eff_class = scaler.transform(X_test_eff_class)"
   ]
  },
  {
   "cell_type": "markdown",
   "metadata": {},
   "source": [
    "### Predicting heating and cooling load"
   ]
  },
  {
   "cell_type": "markdown",
   "metadata": {},
   "source": [
    "#### Sklearn Regressors"
   ]
  },
  {
   "cell_type": "code",
   "execution_count": 8,
   "metadata": {
    "collapsed": true
   },
   "outputs": [],
   "source": [
    "from sklearn.metrics import r2_score\n",
    "from sklearn.linear_model import Ridge\n",
    "from sklearn.svm import LinearSVR\n",
    "from sklearn.svm import SVR\n",
    "from sklearn.tree import DecisionTreeRegressor\n",
    "from sklearn.ensemble import GradientBoostingRegressor\n",
    "from sklearn.ensemble import RandomForestRegressor\n",
    "from sklearn.model_selection import GridSearchCV"
   ]
  },
  {
   "cell_type": "code",
   "execution_count": 9,
   "metadata": {
    "collapsed": true
   },
   "outputs": [],
   "source": [
    "model_results_regression = pd.DataFrame(index=None, columns=['model','heating_train_r2', 'heating_test_r2', 'cooling_train_r2', 'cooling_test_r2'])"
   ]
  },
  {
   "cell_type": "code",
   "execution_count": 10,
   "metadata": {},
   "outputs": [
    {
     "name": "stdout",
     "output_type": "stream",
     "text": [
      "Best parameters for cooling load {'alpha': 0.01}\n",
      "Best parameters for heating load {'alpha': 0.01}\n"
     ]
    },
    {
     "data": {
      "text/html": [
       "<div>\n",
       "<style>\n",
       "    .dataframe thead tr:only-child th {\n",
       "        text-align: right;\n",
       "    }\n",
       "\n",
       "    .dataframe thead th {\n",
       "        text-align: left;\n",
       "    }\n",
       "\n",
       "    .dataframe tbody tr th {\n",
       "        vertical-align: top;\n",
       "    }\n",
       "</style>\n",
       "<table border=\"1\" class=\"dataframe\">\n",
       "  <thead>\n",
       "    <tr style=\"text-align: right;\">\n",
       "      <th></th>\n",
       "      <th>model</th>\n",
       "      <th>heating_train_r2</th>\n",
       "      <th>heating_test_r2</th>\n",
       "      <th>cooling_train_r2</th>\n",
       "      <th>cooling_test_r2</th>\n",
       "    </tr>\n",
       "  </thead>\n",
       "  <tbody>\n",
       "    <tr>\n",
       "      <th>0</th>\n",
       "      <td>Ridge</td>\n",
       "      <td>0.882469</td>\n",
       "      <td>0.90788</td>\n",
       "      <td>0.912346</td>\n",
       "      <td>0.931279</td>\n",
       "    </tr>\n",
       "  </tbody>\n",
       "</table>\n",
       "</div>"
      ],
      "text/plain": [
       "   model  heating_train_r2  heating_test_r2  cooling_train_r2  cooling_test_r2\n",
       "0  Ridge          0.882469          0.90788          0.912346         0.931279"
      ]
     },
     "execution_count": 10,
     "metadata": {},
     "output_type": "execute_result"
    }
   ],
   "source": [
    "#Ridge regression\n",
    "\n",
    "model_name = 'Ridge'\n",
    "param_grid = {'alpha':[0.01, 0.1, 0.5, 1, 10, 50, 100]}\n",
    "\n",
    "model = Ridge()\n",
    "\n",
    "grid_search = GridSearchCV(model, param_grid, cv=5)\n",
    "grid_search.fit(X_train_cool, y_train_cool)\n",
    "\n",
    "print('Best parameters for cooling load {}'.format(grid_search.best_params_))\n",
    "#\n",
    "train_r2_cool = grid_search.score(X_train_cool, y_train_cool)\n",
    "test_r2_cool = grid_search.score(X_test_cool, y_test_cool)\n",
    "\n",
    "#\n",
    "grid_search.fit(X_train_heat, y_train_heat)\n",
    "print('Best parameters for heating load {}'.format(grid_search.best_params_))\n",
    "\n",
    "train_r2_heat = grid_search.score(X_train_heat, y_train_heat)\n",
    "test_r2_heat = grid_search.score(X_test_heat, y_test_heat)\n",
    "\n",
    "#Saving results\n",
    "model_results_regression = model_results_regression.append(pd.Series({'model':model_name,'heating_train_r2':train_r2_heat, 'heating_test_r2':test_r2_heat, 'cooling_train_r2':train_r2_cool,'cooling_test_r2':test_r2_cool}),ignore_index=True)\n",
    "model_results_regression"
   ]
  },
  {
   "cell_type": "code",
   "execution_count": 11,
   "metadata": {},
   "outputs": [
    {
     "name": "stdout",
     "output_type": "stream",
     "text": [
      "Best parameters for cooling load {'C': 50}\n",
      "Best parameters for heating load {'C': 10}\n"
     ]
    },
    {
     "data": {
      "text/html": [
       "<div>\n",
       "<style>\n",
       "    .dataframe thead tr:only-child th {\n",
       "        text-align: right;\n",
       "    }\n",
       "\n",
       "    .dataframe thead th {\n",
       "        text-align: left;\n",
       "    }\n",
       "\n",
       "    .dataframe tbody tr th {\n",
       "        vertical-align: top;\n",
       "    }\n",
       "</style>\n",
       "<table border=\"1\" class=\"dataframe\">\n",
       "  <thead>\n",
       "    <tr style=\"text-align: right;\">\n",
       "      <th></th>\n",
       "      <th>model</th>\n",
       "      <th>heating_train_r2</th>\n",
       "      <th>heating_test_r2</th>\n",
       "      <th>cooling_train_r2</th>\n",
       "      <th>cooling_test_r2</th>\n",
       "    </tr>\n",
       "  </thead>\n",
       "  <tbody>\n",
       "    <tr>\n",
       "      <th>0</th>\n",
       "      <td>Ridge</td>\n",
       "      <td>0.882469</td>\n",
       "      <td>0.907880</td>\n",
       "      <td>0.912346</td>\n",
       "      <td>0.931279</td>\n",
       "    </tr>\n",
       "    <tr>\n",
       "      <th>1</th>\n",
       "      <td>LinearSVM</td>\n",
       "      <td>0.877914</td>\n",
       "      <td>0.905392</td>\n",
       "      <td>0.909409</td>\n",
       "      <td>0.933796</td>\n",
       "    </tr>\n",
       "  </tbody>\n",
       "</table>\n",
       "</div>"
      ],
      "text/plain": [
       "       model  heating_train_r2  heating_test_r2  cooling_train_r2  \\\n",
       "0      Ridge          0.882469         0.907880          0.912346   \n",
       "1  LinearSVM          0.877914         0.905392          0.909409   \n",
       "\n",
       "   cooling_test_r2  \n",
       "0         0.931279  \n",
       "1         0.933796  "
      ]
     },
     "execution_count": 11,
     "metadata": {},
     "output_type": "execute_result"
    }
   ],
   "source": [
    "#Linear SVM\n",
    "\n",
    "model_name = 'LinearSVM'\n",
    "param_grid = {'C':[0.001, 0.01, 0.1, 0.5, 1, 10, 50, 100]}\n",
    "\n",
    "model = LinearSVR()\n",
    "\n",
    "grid_search = GridSearchCV(model, param_grid, cv=5)\n",
    "grid_search.fit(X_train_cool, y_train_cool)\n",
    "\n",
    "print('Best parameters for cooling load {}'.format(grid_search.best_params_))\n",
    "#\n",
    "train_r2_cool = grid_search.score(X_train_cool, y_train_cool)\n",
    "test_r2_cool = grid_search.score(X_test_cool, y_test_cool)\n",
    "\n",
    "#\n",
    "grid_search.fit(X_train_heat, y_train_heat)\n",
    "print('Best parameters for heating load {}'.format(grid_search.best_params_))\n",
    "\n",
    "train_r2_heat = grid_search.score(X_train_heat, y_train_heat)\n",
    "test_r2_heat = grid_search.score(X_test_heat, y_test_heat)\n",
    "\n",
    "#Saving results\n",
    "model_results_regression = model_results_regression.append(pd.Series({'model':model_name,'heating_train_r2':train_r2_heat, 'heating_test_r2':test_r2_heat, 'cooling_train_r2':train_r2_cool,'cooling_test_r2':test_r2_cool}),ignore_index=True)\n",
    "model_results_regression"
   ]
  },
  {
   "cell_type": "code",
   "execution_count": 12,
   "metadata": {},
   "outputs": [
    {
     "name": "stdout",
     "output_type": "stream",
     "text": [
      "Best parameters for cooling load {'C': 1000, 'epsilon': 0.01, 'gamma': 1}\n",
      "Best parameters for heating load {'C': 1000, 'epsilon': 0.5, 'gamma': 1}\n"
     ]
    },
    {
     "data": {
      "text/html": [
       "<div>\n",
       "<style>\n",
       "    .dataframe thead tr:only-child th {\n",
       "        text-align: right;\n",
       "    }\n",
       "\n",
       "    .dataframe thead th {\n",
       "        text-align: left;\n",
       "    }\n",
       "\n",
       "    .dataframe tbody tr th {\n",
       "        vertical-align: top;\n",
       "    }\n",
       "</style>\n",
       "<table border=\"1\" class=\"dataframe\">\n",
       "  <thead>\n",
       "    <tr style=\"text-align: right;\">\n",
       "      <th></th>\n",
       "      <th>model</th>\n",
       "      <th>heating_train_r2</th>\n",
       "      <th>heating_test_r2</th>\n",
       "      <th>cooling_train_r2</th>\n",
       "      <th>cooling_test_r2</th>\n",
       "    </tr>\n",
       "  </thead>\n",
       "  <tbody>\n",
       "    <tr>\n",
       "      <th>0</th>\n",
       "      <td>Ridge</td>\n",
       "      <td>0.882469</td>\n",
       "      <td>0.907880</td>\n",
       "      <td>0.912346</td>\n",
       "      <td>0.931279</td>\n",
       "    </tr>\n",
       "    <tr>\n",
       "      <th>1</th>\n",
       "      <td>LinearSVM</td>\n",
       "      <td>0.877914</td>\n",
       "      <td>0.905392</td>\n",
       "      <td>0.909409</td>\n",
       "      <td>0.933796</td>\n",
       "    </tr>\n",
       "    <tr>\n",
       "      <th>2</th>\n",
       "      <td>Radial_SVM</td>\n",
       "      <td>0.987780</td>\n",
       "      <td>0.975485</td>\n",
       "      <td>0.998830</td>\n",
       "      <td>0.995712</td>\n",
       "    </tr>\n",
       "  </tbody>\n",
       "</table>\n",
       "</div>"
      ],
      "text/plain": [
       "        model  heating_train_r2  heating_test_r2  cooling_train_r2  \\\n",
       "0       Ridge          0.882469         0.907880          0.912346   \n",
       "1   LinearSVM          0.877914         0.905392          0.909409   \n",
       "2  Radial_SVM          0.987780         0.975485          0.998830   \n",
       "\n",
       "   cooling_test_r2  \n",
       "0         0.931279  \n",
       "1         0.933796  \n",
       "2         0.995712  "
      ]
     },
     "execution_count": 12,
     "metadata": {},
     "output_type": "execute_result"
    }
   ],
   "source": [
    "#SVM with Radial Kernel\n",
    "\n",
    "model_name = 'Radial_SVM'\n",
    "param_grid = {'C':[0.001, 0.01, 0.1, 0.5, 1, 10, 50, 100, 1000], 'gamma':[0.001, 0.01, 0.1, 0.5, 1, 10],'epsilon' : [0.01, 0.1, 0.5, 1] }\n",
    "\n",
    "model = SVR(kernel='rbf')\n",
    "\n",
    "grid_search = GridSearchCV(model, param_grid, cv=5)\n",
    "grid_search.fit(X_train_cool, y_train_cool)\n",
    "\n",
    "print('Best parameters for cooling load {}'.format(grid_search.best_params_))\n",
    "#\n",
    "train_r2_cool = grid_search.score(X_train_cool, y_train_cool)\n",
    "test_r2_cool = grid_search.score(X_test_cool, y_test_cool)\n",
    "\n",
    "#\n",
    "grid_search.fit(X_train_heat, y_train_heat)\n",
    "print('Best parameters for heating load {}'.format(grid_search.best_params_))\n",
    "\n",
    "train_r2_heat = grid_search.score(X_train_heat, y_train_heat)\n",
    "test_r2_heat = grid_search.score(X_test_heat, y_test_heat)\n",
    "\n",
    "#Saving results\n",
    "model_results_regression = model_results_regression.append(pd.Series({'model':model_name,'heating_train_r2':train_r2_heat, 'heating_test_r2':test_r2_heat, 'cooling_train_r2':train_r2_cool,'cooling_test_r2':test_r2_cool}),ignore_index=True)\n",
    "model_results_regression"
   ]
  },
  {
   "cell_type": "code",
   "execution_count": 13,
   "metadata": {},
   "outputs": [
    {
     "name": "stdout",
     "output_type": "stream",
     "text": [
      "Best parameters for cooling load {'max_depth': 15, 'max_features': 'auto'}\n",
      "Best parameters for heating load {'max_depth': 15, 'max_features': 'log2'}\n"
     ]
    },
    {
     "data": {
      "text/html": [
       "<div>\n",
       "<style>\n",
       "    .dataframe thead tr:only-child th {\n",
       "        text-align: right;\n",
       "    }\n",
       "\n",
       "    .dataframe thead th {\n",
       "        text-align: left;\n",
       "    }\n",
       "\n",
       "    .dataframe tbody tr th {\n",
       "        vertical-align: top;\n",
       "    }\n",
       "</style>\n",
       "<table border=\"1\" class=\"dataframe\">\n",
       "  <thead>\n",
       "    <tr style=\"text-align: right;\">\n",
       "      <th></th>\n",
       "      <th>model</th>\n",
       "      <th>heating_train_r2</th>\n",
       "      <th>heating_test_r2</th>\n",
       "      <th>cooling_train_r2</th>\n",
       "      <th>cooling_test_r2</th>\n",
       "    </tr>\n",
       "  </thead>\n",
       "  <tbody>\n",
       "    <tr>\n",
       "      <th>0</th>\n",
       "      <td>Ridge</td>\n",
       "      <td>0.882469</td>\n",
       "      <td>0.907880</td>\n",
       "      <td>0.912346</td>\n",
       "      <td>0.931279</td>\n",
       "    </tr>\n",
       "    <tr>\n",
       "      <th>1</th>\n",
       "      <td>LinearSVM</td>\n",
       "      <td>0.877914</td>\n",
       "      <td>0.905392</td>\n",
       "      <td>0.909409</td>\n",
       "      <td>0.933796</td>\n",
       "    </tr>\n",
       "    <tr>\n",
       "      <th>2</th>\n",
       "      <td>Radial_SVM</td>\n",
       "      <td>0.987780</td>\n",
       "      <td>0.975485</td>\n",
       "      <td>0.998830</td>\n",
       "      <td>0.995712</td>\n",
       "    </tr>\n",
       "    <tr>\n",
       "      <th>3</th>\n",
       "      <td>Random_Forest</td>\n",
       "      <td>0.996127</td>\n",
       "      <td>0.976357</td>\n",
       "      <td>0.999717</td>\n",
       "      <td>0.997355</td>\n",
       "    </tr>\n",
       "  </tbody>\n",
       "</table>\n",
       "</div>"
      ],
      "text/plain": [
       "           model  heating_train_r2  heating_test_r2  cooling_train_r2  \\\n",
       "0          Ridge          0.882469         0.907880          0.912346   \n",
       "1      LinearSVM          0.877914         0.905392          0.909409   \n",
       "2     Radial_SVM          0.987780         0.975485          0.998830   \n",
       "3  Random_Forest          0.996127         0.976357          0.999717   \n",
       "\n",
       "   cooling_test_r2  \n",
       "0         0.931279  \n",
       "1         0.933796  \n",
       "2         0.995712  \n",
       "3         0.997355  "
      ]
     },
     "execution_count": 13,
     "metadata": {},
     "output_type": "execute_result"
    }
   ],
   "source": [
    "#Random Forest\n",
    "\n",
    "model_name = 'Random_Forest'\n",
    "param_grid = {'max_features':['auto', 'log2'], 'max_depth':[5,10,15,20,50]}\n",
    "\n",
    "model = RandomForestRegressor(n_estimators= 500, n_jobs = -1, random_state = 10)\n",
    "\n",
    "grid_search = GridSearchCV(model, param_grid, cv=5)\n",
    "grid_search.fit(X_train_cool, y_train_cool)\n",
    "\n",
    "print('Best parameters for cooling load {}'.format(grid_search.best_params_))\n",
    "#\n",
    "train_r2_cool = grid_search.score(X_train_cool, y_train_cool)\n",
    "test_r2_cool = grid_search.score(X_test_cool, y_test_cool)\n",
    "\n",
    "#\n",
    "grid_search.fit(X_train_heat, y_train_heat)\n",
    "print('Best parameters for heating load {}'.format(grid_search.best_params_))\n",
    "\n",
    "train_r2_heat = grid_search.score(X_train_heat, y_train_heat)\n",
    "test_r2_heat = grid_search.score(X_test_heat, y_test_heat)\n",
    "\n",
    "#Saving results\n",
    "model_results_regression = model_results_regression.append(pd.Series({'model':model_name,'heating_train_r2':train_r2_heat, 'heating_test_r2':test_r2_heat, 'cooling_train_r2':train_r2_cool,'cooling_test_r2':test_r2_cool}),ignore_index=True)\n",
    "model_results_regression"
   ]
  },
  {
   "cell_type": "code",
   "execution_count": 14,
   "metadata": {
    "scrolled": true
   },
   "outputs": [
    {
     "name": "stdout",
     "output_type": "stream",
     "text": [
      "Best parameters for cooling load {'learning_rate': 0.1, 'max_depth': 5, 'max_features': 'auto'}\n",
      "Best parameters for heating load {'learning_rate': 0.1, 'max_depth': 5, 'max_features': 'log2'}\n"
     ]
    },
    {
     "data": {
      "text/html": [
       "<div>\n",
       "<style>\n",
       "    .dataframe thead tr:only-child th {\n",
       "        text-align: right;\n",
       "    }\n",
       "\n",
       "    .dataframe thead th {\n",
       "        text-align: left;\n",
       "    }\n",
       "\n",
       "    .dataframe tbody tr th {\n",
       "        vertical-align: top;\n",
       "    }\n",
       "</style>\n",
       "<table border=\"1\" class=\"dataframe\">\n",
       "  <thead>\n",
       "    <tr style=\"text-align: right;\">\n",
       "      <th></th>\n",
       "      <th>model</th>\n",
       "      <th>heating_train_r2</th>\n",
       "      <th>heating_test_r2</th>\n",
       "      <th>cooling_train_r2</th>\n",
       "      <th>cooling_test_r2</th>\n",
       "    </tr>\n",
       "  </thead>\n",
       "  <tbody>\n",
       "    <tr>\n",
       "      <th>0</th>\n",
       "      <td>Ridge</td>\n",
       "      <td>0.882469</td>\n",
       "      <td>0.907880</td>\n",
       "      <td>0.912346</td>\n",
       "      <td>0.931279</td>\n",
       "    </tr>\n",
       "    <tr>\n",
       "      <th>1</th>\n",
       "      <td>LinearSVM</td>\n",
       "      <td>0.877914</td>\n",
       "      <td>0.905392</td>\n",
       "      <td>0.909409</td>\n",
       "      <td>0.933796</td>\n",
       "    </tr>\n",
       "    <tr>\n",
       "      <th>2</th>\n",
       "      <td>Radial_SVM</td>\n",
       "      <td>0.987780</td>\n",
       "      <td>0.975485</td>\n",
       "      <td>0.998830</td>\n",
       "      <td>0.995712</td>\n",
       "    </tr>\n",
       "    <tr>\n",
       "      <th>3</th>\n",
       "      <td>Random_Forest</td>\n",
       "      <td>0.996127</td>\n",
       "      <td>0.976357</td>\n",
       "      <td>0.999717</td>\n",
       "      <td>0.997355</td>\n",
       "    </tr>\n",
       "    <tr>\n",
       "      <th>4</th>\n",
       "      <td>GradientBoost</td>\n",
       "      <td>0.999622</td>\n",
       "      <td>0.996159</td>\n",
       "      <td>0.999959</td>\n",
       "      <td>0.998555</td>\n",
       "    </tr>\n",
       "  </tbody>\n",
       "</table>\n",
       "</div>"
      ],
      "text/plain": [
       "           model  heating_train_r2  heating_test_r2  cooling_train_r2  \\\n",
       "0          Ridge          0.882469         0.907880          0.912346   \n",
       "1      LinearSVM          0.877914         0.905392          0.909409   \n",
       "2     Radial_SVM          0.987780         0.975485          0.998830   \n",
       "3  Random_Forest          0.996127         0.976357          0.999717   \n",
       "4  GradientBoost          0.999622         0.996159          0.999959   \n",
       "\n",
       "   cooling_test_r2  \n",
       "0         0.931279  \n",
       "1         0.933796  \n",
       "2         0.995712  \n",
       "3         0.997355  \n",
       "4         0.998555  "
      ]
     },
     "execution_count": 14,
     "metadata": {},
     "output_type": "execute_result"
    }
   ],
   "source": [
    "#Gradient Boost\n",
    "\n",
    "model_name = 'GradientBoost'\n",
    "param_grid = {'max_features':['auto', 'log2'], 'max_depth':[5,10,15,20,50], 'learning_rate':[0.01,0.1,1]}\n",
    "\n",
    "model =  GradientBoostingRegressor(random_state = 10, n_estimators = 500)\n",
    "\n",
    "grid_search = GridSearchCV(model, param_grid, cv=5)\n",
    "grid_search.fit(X_train_cool, y_train_cool)\n",
    "\n",
    "print('Best parameters for cooling load {}'.format(grid_search.best_params_))\n",
    "#\n",
    "train_r2_cool = grid_search.score(X_train_cool, y_train_cool)\n",
    "test_r2_cool = grid_search.score(X_test_cool, y_test_cool)\n",
    "\n",
    "#\n",
    "grid_search.fit(X_train_heat, y_train_heat)\n",
    "print('Best parameters for heating load {}'.format(grid_search.best_params_))\n",
    "\n",
    "train_r2_heat = grid_search.score(X_train_heat, y_train_heat)\n",
    "test_r2_heat = grid_search.score(X_test_heat, y_test_heat)\n",
    "\n",
    "#Saving results\n",
    "model_results_regression = model_results_regression.append(pd.Series({'model':model_name,'heating_train_r2':train_r2_heat, 'heating_test_r2':test_r2_heat, 'cooling_train_r2':train_r2_cool,'cooling_test_r2':test_r2_cool}),ignore_index=True)\n",
    "model_results_regression"
   ]
  },
  {
   "cell_type": "code",
   "execution_count": 15,
   "metadata": {},
   "outputs": [
    {
     "data": {
      "text/plain": [
       "(768, 8)"
      ]
     },
     "execution_count": 15,
     "metadata": {},
     "output_type": "execute_result"
    }
   ],
   "source": [
    "X.shape"
   ]
  },
  {
   "cell_type": "markdown",
   "metadata": {},
   "source": [
    "#### Neural networks"
   ]
  },
  {
   "cell_type": "code",
   "execution_count": 16,
   "metadata": {},
   "outputs": [
    {
     "name": "stderr",
     "output_type": "stream",
     "text": [
      "C:\\ProgramData\\Anaconda3\\lib\\site-packages\\h5py\\__init__.py:34: FutureWarning: Conversion of the second argument of issubdtype from `float` to `np.floating` is deprecated. In future, it will be treated as `np.float64 == np.dtype(float).type`.\n",
      "  from ._conv import register_converters as _register_converters\n",
      "Using TensorFlow backend.\n"
     ]
    }
   ],
   "source": [
    "from keras.models import Sequential\n",
    "from keras.layers import Dense\n",
    "\n",
    "# fix random seed for reproducibility\n",
    "np.random.seed(10)"
   ]
  },
  {
   "cell_type": "markdown",
   "metadata": {
    "collapsed": true
   },
   "source": [
    "- The two regression models are built seprately similar to other algorithms\n",
    "- Another reason to split the model creation is to avoid retraining of the same model\n",
    "- The models are written using scikit_learn wrapper in order to use scikit learn functions easily"
   ]
  },
  {
   "cell_type": "code",
   "execution_count": 54,
   "metadata": {
    "collapsed": true
   },
   "outputs": [],
   "source": [
    "from keras.wrappers.scikit_learn import KerasRegressor\n",
    "\n",
    "def create_model_regressor_cooling():\n",
    "    #create model\n",
    "    model2 = Sequential()\n",
    "    model2.add(Dense(8, input_dim=8, kernel_initializer='normal', activation='relu'))\n",
    "    model2.add(Dense(4, kernel_initializer = 'normal', activation = 'relu')) # hidden layer\n",
    "    model2.add(Dense(10, kernel_initializer = 'normal', activation = 'linear'))\n",
    "    model2.add(Dense(1, kernel_initializer='normal'))\n",
    "    #compile model\n",
    "    model2.compile(loss='mean_squared_error', optimizer='adam', metrics=['mean_squared_error'])\n",
    "    #return model\n",
    "    return model2"
   ]
  },
  {
   "cell_type": "code",
   "execution_count": 20,
   "metadata": {
    "collapsed": true
   },
   "outputs": [],
   "source": [
    "from keras.wrappers.scikit_learn import KerasRegressor\n",
    "\n",
    "def create_model_regressor_heating():\n",
    "    #create model\n",
    "    model = Sequential()\n",
    "    model.add(Dense(8, input_dim=8, kernel_initializer='normal', activation='relu'))\n",
    "    model.add(Dense(4, kernel_initializer = 'normal', activation = 'relu')) # hidden layer\n",
    "    model.add(Dense(10, kernel_initializer = 'normal', activation = 'linear'))\n",
    "    model.add(Dense(1, kernel_initializer='normal'))\n",
    "    #compile model\n",
    "    model.compile(loss='mean_squared_error', optimizer='adam', metrics=['mean_squared_error'])\n",
    "    return model"
   ]
  },
  {
   "cell_type": "markdown",
   "metadata": {},
   "source": [
    "The final version of the model has following architecture\n",
    "\n",
    "1. Input layer with 8 nodes (same as input columns) with relu activation function\n",
    "2. Hidden layer 1 with 4 nodes and relu activation function\n",
    "3. Hidden layer with 10 nodes and linear activation function\n",
    "4. Output layer with single node and no activation function\n",
    "5. Adam optimzer with  learning rate of 0.01 and loss function of mean_squared_error"
   ]
  },
  {
   "cell_type": "code",
   "execution_count": 55,
   "metadata": {
    "collapsed": true
   },
   "outputs": [],
   "source": [
    "#Model training\n",
    "\n",
    "model_name = 'Neural_Networks'\n",
    "param_grid = {'epochs':[50, 100, 200] , 'batch_size':[20, 50, 100]}"
   ]
  },
  {
   "cell_type": "markdown",
   "metadata": {},
   "source": [
    "Both the models are trained with same parameter grid\n",
    "\n",
    "- epochs = 50, 100 and 200\n",
    "- batch size = 20, 50, 100"
   ]
  },
  {
   "cell_type": "code",
   "execution_count": 56,
   "metadata": {},
   "outputs": [
    {
     "name": "stdout",
     "output_type": "stream",
     "text": [
      "Best parameters for cooling load {'batch_size': 20, 'epochs': 200}\n"
     ]
    }
   ],
   "source": [
    "model1 = KerasRegressor(build_fn = create_model_regressor_cooling , verbose = 0)\n",
    "\n",
    "grid_search = GridSearchCV(model1 , param_grid , cv =5)\n",
    "\n",
    "grid_search.fit(X_train_cool, y_train_cool)\n",
    "#\n",
    "print('Best parameters for cooling load {}'.format(grid_search.best_params_))\n",
    "\n",
    "train_r2_cool = r2_score(y_train_cool, grid_search.predict(X_train_cool))\n",
    "test_r2_cool = r2_score(y_test_cool, grid_search.predict(X_test_cool))"
   ]
  },
  {
   "cell_type": "code",
   "execution_count": 23,
   "metadata": {},
   "outputs": [
    {
     "name": "stdout",
     "output_type": "stream",
     "text": [
      "Best parameters for heating load {'batch_size': 20, 'epochs': 200}\n"
     ]
    }
   ],
   "source": [
    "model2 = KerasRegressor(build_fn = create_model_regressor_heating , verbose = 0)\n",
    "grid_search = GridSearchCV(model2 , param_grid , cv =5)\n",
    "\n",
    "grid_search.fit(X_train_heat, y_train_heat)\n",
    "print('Best parameters for heating load {}'.format(grid_search.best_params_))\n",
    "\n",
    "train_r2_heat = r2_score(y_train_heat, grid_search.predict(X_train_heat))\n",
    "test_r2_heat = r2_score(y_test_heat, grid_search.predict(X_test_heat))"
   ]
  },
  {
   "cell_type": "code",
   "execution_count": 66,
   "metadata": {
    "scrolled": true
   },
   "outputs": [
    {
     "data": {
      "text/html": [
       "<div>\n",
       "<style>\n",
       "    .dataframe thead tr:only-child th {\n",
       "        text-align: right;\n",
       "    }\n",
       "\n",
       "    .dataframe thead th {\n",
       "        text-align: left;\n",
       "    }\n",
       "\n",
       "    .dataframe tbody tr th {\n",
       "        vertical-align: top;\n",
       "    }\n",
       "</style>\n",
       "<table border=\"1\" class=\"dataframe\">\n",
       "  <thead>\n",
       "    <tr style=\"text-align: right;\">\n",
       "      <th></th>\n",
       "      <th>model</th>\n",
       "      <th>heating_train_r2</th>\n",
       "      <th>heating_test_r2</th>\n",
       "      <th>cooling_train_r2</th>\n",
       "      <th>cooling_test_r2</th>\n",
       "    </tr>\n",
       "  </thead>\n",
       "  <tbody>\n",
       "    <tr>\n",
       "      <th>0</th>\n",
       "      <td>Ridge</td>\n",
       "      <td>0.882469</td>\n",
       "      <td>0.907880</td>\n",
       "      <td>0.912346</td>\n",
       "      <td>0.931279</td>\n",
       "    </tr>\n",
       "    <tr>\n",
       "      <th>1</th>\n",
       "      <td>LinearSVM</td>\n",
       "      <td>0.877914</td>\n",
       "      <td>0.905392</td>\n",
       "      <td>0.909409</td>\n",
       "      <td>0.933796</td>\n",
       "    </tr>\n",
       "    <tr>\n",
       "      <th>2</th>\n",
       "      <td>Radial_SVM</td>\n",
       "      <td>0.987780</td>\n",
       "      <td>0.975485</td>\n",
       "      <td>0.998830</td>\n",
       "      <td>0.995712</td>\n",
       "    </tr>\n",
       "    <tr>\n",
       "      <th>3</th>\n",
       "      <td>Random_Forest</td>\n",
       "      <td>0.996127</td>\n",
       "      <td>0.976357</td>\n",
       "      <td>0.999717</td>\n",
       "      <td>0.997355</td>\n",
       "    </tr>\n",
       "    <tr>\n",
       "      <th>4</th>\n",
       "      <td>GradientBoost</td>\n",
       "      <td>0.999622</td>\n",
       "      <td>0.996159</td>\n",
       "      <td>0.999959</td>\n",
       "      <td>0.998555</td>\n",
       "    </tr>\n",
       "    <tr>\n",
       "      <th>5</th>\n",
       "      <td>Neural_Networks</td>\n",
       "      <td>0.874705</td>\n",
       "      <td>0.899424</td>\n",
       "      <td>0.921846</td>\n",
       "      <td>0.936363</td>\n",
       "    </tr>\n",
       "  </tbody>\n",
       "</table>\n",
       "</div>"
      ],
      "text/plain": [
       "             model  heating_train_r2  heating_test_r2  cooling_train_r2  \\\n",
       "0            Ridge          0.882469         0.907880          0.912346   \n",
       "1        LinearSVM          0.877914         0.905392          0.909409   \n",
       "2       Radial_SVM          0.987780         0.975485          0.998830   \n",
       "3    Random_Forest          0.996127         0.976357          0.999717   \n",
       "4    GradientBoost          0.999622         0.996159          0.999959   \n",
       "5  Neural_Networks          0.874705         0.899424          0.921846   \n",
       "\n",
       "   cooling_test_r2  \n",
       "0         0.931279  \n",
       "1         0.933796  \n",
       "2         0.995712  \n",
       "3         0.997355  \n",
       "4         0.998555  \n",
       "5         0.936363  "
      ]
     },
     "execution_count": 66,
     "metadata": {},
     "output_type": "execute_result"
    }
   ],
   "source": [
    "#Saving results\n",
    "model_results_regression = model_results_regression.append(pd.Series({'model':model_name,'heating_train_r2':train_r2_heat, 'heating_test_r2':test_r2_heat, 'cooling_train_r2':train_r2_cool,'cooling_test_r2':test_r2_cool}),ignore_index=True)\n",
    "model_results_regression"
   ]
  },
  {
   "cell_type": "code",
   "execution_count": 68,
   "metadata": {},
   "outputs": [
    {
     "data": {
      "text/plain": [
       "Text(0.5,1,'Train and Test r2 for Heating Load')"
      ]
     },
     "execution_count": 68,
     "metadata": {},
     "output_type": "execute_result"
    },
    {
     "data": {
      "image/png": "[encoded data removed]",
      "text/plain": [
       "<matplotlib.figure.Figure at 0x2311fb14cc0>"
      ]
     },
     "metadata": {},
     "output_type": "display_data"
    }
   ],
   "source": [
    "cols = ['model','heating_train_r2','heating_test_r2']\n",
    "model_results_regression[cols].set_index('model').plot(kind = 'bar');\n",
    "plt.title('Train and Test r2 for Heating Load')\n",
    "#"
   ]
  },
  {
   "cell_type": "markdown",
   "metadata": {},
   "source": [
    "### Predicting Heating Load\n",
    "- The three models, SVM with radial kernel, Random Forest and Gradient Boosting models are performing best with high R-square\n",
    "- The neural networks perform similar to Ridge and Linear SVM but it is performing worst among the tested models"
   ]
  },
  {
   "cell_type": "code",
   "execution_count": 67,
   "metadata": {},
   "outputs": [
    {
     "data": {
      "text/plain": [
       "Text(0.5,1,'Train and Test r2 for Cooling Load')"
      ]
     },
     "execution_count": 67,
     "metadata": {},
     "output_type": "execute_result"
    },
    {
     "data": {
      "image/png": "[encoded data removed]",
      "text/plain": [
       "<matplotlib.figure.Figure at 0x2311fb14b00>"
      ]
     },
     "metadata": {},
     "output_type": "display_data"
    }
   ],
   "source": [
    "cols = ['model','cooling_train_r2','cooling_test_r2']\n",
    "model_results_regression[cols].set_index('model').plot(kind = 'bar');\n",
    "plt.title('Train and Test r2 for Cooling Load')\n",
    "#"
   ]
  },
  {
   "cell_type": "markdown",
   "metadata": {},
   "source": [
    "### Predicting Cooling Load\n",
    "- The three models, SVM with radial kernel, Random Forest and Gradient Boosting models are performing best with high R-square\n",
    "- The neural networks performed slightly better than Ridge and Linear SVM but ~8% worse than the best models in terms of R square"
   ]
  },
  {
   "cell_type": "markdown",
   "metadata": {},
   "source": [
    "### Predicting Energy efficiency class"
   ]
  },
  {
   "cell_type": "markdown",
   "metadata": {},
   "source": [
    "#### Sklearn Classifiers"
   ]
  },
  {
   "cell_type": "code",
   "execution_count": 27,
   "metadata": {
    "collapsed": true
   },
   "outputs": [],
   "source": [
    "from sklearn.metrics import accuracy_score, f1_score\n",
    "from sklearn.linear_model import LogisticRegression\n",
    "from sklearn.svm import LinearSVC\n",
    "from sklearn.svm import SVC\n",
    "from sklearn.tree import DecisionTreeClassifier\n",
    "from sklearn.ensemble import GradientBoostingClassifier\n",
    "from sklearn.ensemble import RandomForestClassifier"
   ]
  },
  {
   "cell_type": "code",
   "execution_count": 28,
   "metadata": {
    "collapsed": true
   },
   "outputs": [],
   "source": [
    "model_results_classification = pd.DataFrame(index=None, columns=['model','train_acc', 'test_acc', 'train_f1', 'test_f1'])"
   ]
  },
  {
   "cell_type": "code",
   "execution_count": 29,
   "metadata": {},
   "outputs": [
    {
     "name": "stdout",
     "output_type": "stream",
     "text": [
      "Best parameters for efficiency classification {'C': 0.5}\n"
     ]
    },
    {
     "data": {
      "text/html": [
       "<div>\n",
       "<style>\n",
       "    .dataframe thead tr:only-child th {\n",
       "        text-align: right;\n",
       "    }\n",
       "\n",
       "    .dataframe thead th {\n",
       "        text-align: left;\n",
       "    }\n",
       "\n",
       "    .dataframe tbody tr th {\n",
       "        vertical-align: top;\n",
       "    }\n",
       "</style>\n",
       "<table border=\"1\" class=\"dataframe\">\n",
       "  <thead>\n",
       "    <tr style=\"text-align: right;\">\n",
       "      <th></th>\n",
       "      <th>model</th>\n",
       "      <th>train_acc</th>\n",
       "      <th>test_acc</th>\n",
       "      <th>train_f1</th>\n",
       "      <th>test_f1</th>\n",
       "    </tr>\n",
       "  </thead>\n",
       "  <tbody>\n",
       "    <tr>\n",
       "      <th>0</th>\n",
       "      <td>Logistic</td>\n",
       "      <td>0.885993</td>\n",
       "      <td>0.902597</td>\n",
       "      <td>0.818092</td>\n",
       "      <td>0.809335</td>\n",
       "    </tr>\n",
       "  </tbody>\n",
       "</table>\n",
       "</div>"
      ],
      "text/plain": [
       "      model  train_acc  test_acc  train_f1   test_f1\n",
       "0  Logistic   0.885993  0.902597  0.818092  0.809335"
      ]
     },
     "execution_count": 29,
     "metadata": {},
     "output_type": "execute_result"
    }
   ],
   "source": [
    "#Logistic Regression\n",
    "\n",
    "model_name = 'Logistic'\n",
    "param_grid = {'C':[0.01, 0.1, 0.5, 1, 10, 50, 100]}\n",
    "\n",
    "model = LogisticRegression()\n",
    "\n",
    "grid_search = GridSearchCV(model, param_grid, cv=5)\n",
    "grid_search.fit(X_train_eff_class, y_train_eff_class)\n",
    "\n",
    "print('Best parameters for efficiency classification {}'.format(grid_search.best_params_))\n",
    "\n",
    "#Accuracy\n",
    "train_acc = grid_search.score(X_train_eff_class, y_train_eff_class)\n",
    "test_acc = grid_search.score(X_test_eff_class, y_test_eff_class)\n",
    "\n",
    "#f1 score\n",
    "train_f1 = f1_score(y_train_eff_class, grid_search.predict(X_train_eff_class), average= 'macro')\n",
    "test_f1 = f1_score(y_test_eff_class, grid_search.predict(X_test_eff_class), average= 'macro')\n",
    "\n",
    "#Saving results\n",
    "model_results_classification = model_results_classification.append(pd.Series({'model':model_name,'train_acc':train_acc, 'test_acc':test_acc, 'train_f1':train_f1,'test_f1':test_f1}),ignore_index=True)\n",
    "model_results_classification"
   ]
  },
  {
   "cell_type": "code",
   "execution_count": 30,
   "metadata": {},
   "outputs": [
    {
     "name": "stdout",
     "output_type": "stream",
     "text": [
      "Best parameters for efficiency classification {'C': 0.5}\n"
     ]
    },
    {
     "data": {
      "text/html": [
       "<div>\n",
       "<style>\n",
       "    .dataframe thead tr:only-child th {\n",
       "        text-align: right;\n",
       "    }\n",
       "\n",
       "    .dataframe thead th {\n",
       "        text-align: left;\n",
       "    }\n",
       "\n",
       "    .dataframe tbody tr th {\n",
       "        vertical-align: top;\n",
       "    }\n",
       "</style>\n",
       "<table border=\"1\" class=\"dataframe\">\n",
       "  <thead>\n",
       "    <tr style=\"text-align: right;\">\n",
       "      <th></th>\n",
       "      <th>model</th>\n",
       "      <th>train_acc</th>\n",
       "      <th>test_acc</th>\n",
       "      <th>train_f1</th>\n",
       "      <th>test_f1</th>\n",
       "    </tr>\n",
       "  </thead>\n",
       "  <tbody>\n",
       "    <tr>\n",
       "      <th>0</th>\n",
       "      <td>Logistic</td>\n",
       "      <td>0.885993</td>\n",
       "      <td>0.902597</td>\n",
       "      <td>0.818092</td>\n",
       "      <td>0.809335</td>\n",
       "    </tr>\n",
       "    <tr>\n",
       "      <th>1</th>\n",
       "      <td>LinearSVM</td>\n",
       "      <td>0.885993</td>\n",
       "      <td>0.902597</td>\n",
       "      <td>0.818092</td>\n",
       "      <td>0.809335</td>\n",
       "    </tr>\n",
       "  </tbody>\n",
       "</table>\n",
       "</div>"
      ],
      "text/plain": [
       "       model  train_acc  test_acc  train_f1   test_f1\n",
       "0   Logistic   0.885993  0.902597  0.818092  0.809335\n",
       "1  LinearSVM   0.885993  0.902597  0.818092  0.809335"
      ]
     },
     "execution_count": 30,
     "metadata": {},
     "output_type": "execute_result"
    }
   ],
   "source": [
    "#Linear SVM\n",
    "\n",
    "model_name = 'LinearSVM'\n",
    "param_grid = {'C':[0.001, 0.01, 0.1, 0.5, 1, 10, 50, 100]}\n",
    "\n",
    "model = LinearSVC()\n",
    "\n",
    "model = LogisticRegression()\n",
    "\n",
    "grid_search = GridSearchCV(model, param_grid, cv=5)\n",
    "grid_search.fit(X_train_eff_class, y_train_eff_class)\n",
    "\n",
    "print('Best parameters for efficiency classification {}'.format(grid_search.best_params_))\n",
    "\n",
    "#Accuracy\n",
    "train_acc = grid_search.score(X_train_eff_class, y_train_eff_class)\n",
    "test_acc = grid_search.score(X_test_eff_class, y_test_eff_class)\n",
    "\n",
    "#f1 score\n",
    "train_f1 = f1_score(y_train_eff_class, grid_search.predict(X_train_eff_class), average= 'macro')\n",
    "test_f1 = f1_score(y_test_eff_class, grid_search.predict(X_test_eff_class), average= 'macro')\n",
    "\n",
    "#Saving results\n",
    "model_results_classification = model_results_classification.append(pd.Series({'model':model_name,'train_acc':train_acc, 'test_acc':test_acc, 'train_f1':train_f1,'test_f1':test_f1}),ignore_index=True)\n",
    "model_results_classification"
   ]
  },
  {
   "cell_type": "code",
   "execution_count": 31,
   "metadata": {},
   "outputs": [
    {
     "name": "stdout",
     "output_type": "stream",
     "text": [
      "Best parameters for efficiency classification {'C': 50, 'gamma': 0.5}\n"
     ]
    },
    {
     "data": {
      "text/html": [
       "<div>\n",
       "<style>\n",
       "    .dataframe thead tr:only-child th {\n",
       "        text-align: right;\n",
       "    }\n",
       "\n",
       "    .dataframe thead th {\n",
       "        text-align: left;\n",
       "    }\n",
       "\n",
       "    .dataframe tbody tr th {\n",
       "        vertical-align: top;\n",
       "    }\n",
       "</style>\n",
       "<table border=\"1\" class=\"dataframe\">\n",
       "  <thead>\n",
       "    <tr style=\"text-align: right;\">\n",
       "      <th></th>\n",
       "      <th>model</th>\n",
       "      <th>train_acc</th>\n",
       "      <th>test_acc</th>\n",
       "      <th>train_f1</th>\n",
       "      <th>test_f1</th>\n",
       "    </tr>\n",
       "  </thead>\n",
       "  <tbody>\n",
       "    <tr>\n",
       "      <th>0</th>\n",
       "      <td>Logistic</td>\n",
       "      <td>0.885993</td>\n",
       "      <td>0.902597</td>\n",
       "      <td>0.818092</td>\n",
       "      <td>0.809335</td>\n",
       "    </tr>\n",
       "    <tr>\n",
       "      <th>1</th>\n",
       "      <td>LinearSVM</td>\n",
       "      <td>0.885993</td>\n",
       "      <td>0.902597</td>\n",
       "      <td>0.818092</td>\n",
       "      <td>0.809335</td>\n",
       "    </tr>\n",
       "    <tr>\n",
       "      <th>2</th>\n",
       "      <td>Radial_SVM</td>\n",
       "      <td>0.988599</td>\n",
       "      <td>0.980519</td>\n",
       "      <td>0.988165</td>\n",
       "      <td>0.972685</td>\n",
       "    </tr>\n",
       "  </tbody>\n",
       "</table>\n",
       "</div>"
      ],
      "text/plain": [
       "        model  train_acc  test_acc  train_f1   test_f1\n",
       "0    Logistic   0.885993  0.902597  0.818092  0.809335\n",
       "1   LinearSVM   0.885993  0.902597  0.818092  0.809335\n",
       "2  Radial_SVM   0.988599  0.980519  0.988165  0.972685"
      ]
     },
     "execution_count": 31,
     "metadata": {},
     "output_type": "execute_result"
    }
   ],
   "source": [
    "#SVM with Radial Kernel\n",
    "\n",
    "model_name = 'Radial_SVM'\n",
    "param_grid = {'C':[0.001, 0.01, 0.1, 0.5, 1, 10, 50, 100, 1000], 'gamma':[0.001, 0.01, 0.1, 0.5, 1, 10]}\n",
    "\n",
    "model = SVC(kernel='rbf')\n",
    "\n",
    "grid_search = GridSearchCV(model, param_grid, cv=5)\n",
    "grid_search.fit(X_train_eff_class, y_train_eff_class)\n",
    "\n",
    "print('Best parameters for efficiency classification {}'.format(grid_search.best_params_))\n",
    "\n",
    "#Accuracy\n",
    "train_acc = grid_search.score(X_train_eff_class, y_train_eff_class)\n",
    "test_acc = grid_search.score(X_test_eff_class, y_test_eff_class)\n",
    "\n",
    "#f1 score\n",
    "train_f1 = f1_score(y_train_eff_class, grid_search.predict(X_train_eff_class), average= 'macro')\n",
    "test_f1 = f1_score(y_test_eff_class, grid_search.predict(X_test_eff_class), average= 'macro')\n",
    "\n",
    "#Saving results\n",
    "model_results_classification = model_results_classification.append(pd.Series({'model':model_name,'train_acc':train_acc, 'test_acc':test_acc, 'train_f1':train_f1,'test_f1':test_f1}),ignore_index=True)\n",
    "model_results_classification"
   ]
  },
  {
   "cell_type": "code",
   "execution_count": 32,
   "metadata": {},
   "outputs": [
    {
     "name": "stdout",
     "output_type": "stream",
     "text": [
      "Best parameters for efficiency classification {'max_depth': 10, 'max_features': 'auto'}\n"
     ]
    },
    {
     "data": {
      "text/html": [
       "<div>\n",
       "<style>\n",
       "    .dataframe thead tr:only-child th {\n",
       "        text-align: right;\n",
       "    }\n",
       "\n",
       "    .dataframe thead th {\n",
       "        text-align: left;\n",
       "    }\n",
       "\n",
       "    .dataframe tbody tr th {\n",
       "        vertical-align: top;\n",
       "    }\n",
       "</style>\n",
       "<table border=\"1\" class=\"dataframe\">\n",
       "  <thead>\n",
       "    <tr style=\"text-align: right;\">\n",
       "      <th></th>\n",
       "      <th>model</th>\n",
       "      <th>train_acc</th>\n",
       "      <th>test_acc</th>\n",
       "      <th>train_f1</th>\n",
       "      <th>test_f1</th>\n",
       "    </tr>\n",
       "  </thead>\n",
       "  <tbody>\n",
       "    <tr>\n",
       "      <th>0</th>\n",
       "      <td>Logistic</td>\n",
       "      <td>0.885993</td>\n",
       "      <td>0.902597</td>\n",
       "      <td>0.818092</td>\n",
       "      <td>0.809335</td>\n",
       "    </tr>\n",
       "    <tr>\n",
       "      <th>1</th>\n",
       "      <td>LinearSVM</td>\n",
       "      <td>0.885993</td>\n",
       "      <td>0.902597</td>\n",
       "      <td>0.818092</td>\n",
       "      <td>0.809335</td>\n",
       "    </tr>\n",
       "    <tr>\n",
       "      <th>2</th>\n",
       "      <td>Radial_SVM</td>\n",
       "      <td>0.988599</td>\n",
       "      <td>0.980519</td>\n",
       "      <td>0.988165</td>\n",
       "      <td>0.972685</td>\n",
       "    </tr>\n",
       "    <tr>\n",
       "      <th>3</th>\n",
       "      <td>Random_Forest</td>\n",
       "      <td>1.000000</td>\n",
       "      <td>0.980519</td>\n",
       "      <td>1.000000</td>\n",
       "      <td>0.965185</td>\n",
       "    </tr>\n",
       "  </tbody>\n",
       "</table>\n",
       "</div>"
      ],
      "text/plain": [
       "           model  train_acc  test_acc  train_f1   test_f1\n",
       "0       Logistic   0.885993  0.902597  0.818092  0.809335\n",
       "1      LinearSVM   0.885993  0.902597  0.818092  0.809335\n",
       "2     Radial_SVM   0.988599  0.980519  0.988165  0.972685\n",
       "3  Random_Forest   1.000000  0.980519  1.000000  0.965185"
      ]
     },
     "execution_count": 32,
     "metadata": {},
     "output_type": "execute_result"
    }
   ],
   "source": [
    "#Random Forest\n",
    "\n",
    "model_name = 'Random_Forest'\n",
    "param_grid = {'max_features':['auto', 'log2'], 'max_depth':[5,10,15,20,50]}\n",
    "\n",
    "model = RandomForestClassifier(n_estimators= 500, n_jobs = -1, random_state = 10)\n",
    "\n",
    "grid_search = GridSearchCV(model, param_grid, cv=5)\n",
    "grid_search.fit(X_train_eff_class, y_train_eff_class)\n",
    "\n",
    "print('Best parameters for efficiency classification {}'.format(grid_search.best_params_))\n",
    "\n",
    "#Accuracy\n",
    "train_acc = grid_search.score(X_train_eff_class, y_train_eff_class)\n",
    "test_acc = grid_search.score(X_test_eff_class, y_test_eff_class)\n",
    "\n",
    "#f1 score\n",
    "train_f1 = f1_score(y_train_eff_class, grid_search.predict(X_train_eff_class), average= 'macro')\n",
    "test_f1 = f1_score(y_test_eff_class, grid_search.predict(X_test_eff_class), average= 'macro')\n",
    "\n",
    "#Saving results\n",
    "model_results_classification = model_results_classification.append(pd.Series({'model':model_name,'train_acc':train_acc, 'test_acc':test_acc, 'train_f1':train_f1,'test_f1':test_f1}),ignore_index=True)\n",
    "model_results_classification"
   ]
  },
  {
   "cell_type": "code",
   "execution_count": 33,
   "metadata": {},
   "outputs": [
    {
     "name": "stdout",
     "output_type": "stream",
     "text": [
      "Best parameters for efficiency classification {'learning_rate': 0.1, 'max_depth': 5, 'max_features': 'auto'}\n"
     ]
    },
    {
     "data": {
      "text/html": [
       "<div>\n",
       "<style>\n",
       "    .dataframe thead tr:only-child th {\n",
       "        text-align: right;\n",
       "    }\n",
       "\n",
       "    .dataframe thead th {\n",
       "        text-align: left;\n",
       "    }\n",
       "\n",
       "    .dataframe tbody tr th {\n",
       "        vertical-align: top;\n",
       "    }\n",
       "</style>\n",
       "<table border=\"1\" class=\"dataframe\">\n",
       "  <thead>\n",
       "    <tr style=\"text-align: right;\">\n",
       "      <th></th>\n",
       "      <th>model</th>\n",
       "      <th>train_acc</th>\n",
       "      <th>test_acc</th>\n",
       "      <th>train_f1</th>\n",
       "      <th>test_f1</th>\n",
       "    </tr>\n",
       "  </thead>\n",
       "  <tbody>\n",
       "    <tr>\n",
       "      <th>0</th>\n",
       "      <td>Logistic</td>\n",
       "      <td>0.885993</td>\n",
       "      <td>0.902597</td>\n",
       "      <td>0.818092</td>\n",
       "      <td>0.809335</td>\n",
       "    </tr>\n",
       "    <tr>\n",
       "      <th>1</th>\n",
       "      <td>LinearSVM</td>\n",
       "      <td>0.885993</td>\n",
       "      <td>0.902597</td>\n",
       "      <td>0.818092</td>\n",
       "      <td>0.809335</td>\n",
       "    </tr>\n",
       "    <tr>\n",
       "      <th>2</th>\n",
       "      <td>Radial_SVM</td>\n",
       "      <td>0.988599</td>\n",
       "      <td>0.980519</td>\n",
       "      <td>0.988165</td>\n",
       "      <td>0.972685</td>\n",
       "    </tr>\n",
       "    <tr>\n",
       "      <th>3</th>\n",
       "      <td>Random_Forest</td>\n",
       "      <td>1.000000</td>\n",
       "      <td>0.980519</td>\n",
       "      <td>1.000000</td>\n",
       "      <td>0.965185</td>\n",
       "    </tr>\n",
       "    <tr>\n",
       "      <th>4</th>\n",
       "      <td>GradientBoost</td>\n",
       "      <td>1.000000</td>\n",
       "      <td>0.987013</td>\n",
       "      <td>1.000000</td>\n",
       "      <td>0.983296</td>\n",
       "    </tr>\n",
       "  </tbody>\n",
       "</table>\n",
       "</div>"
      ],
      "text/plain": [
       "           model  train_acc  test_acc  train_f1   test_f1\n",
       "0       Logistic   0.885993  0.902597  0.818092  0.809335\n",
       "1      LinearSVM   0.885993  0.902597  0.818092  0.809335\n",
       "2     Radial_SVM   0.988599  0.980519  0.988165  0.972685\n",
       "3  Random_Forest   1.000000  0.980519  1.000000  0.965185\n",
       "4  GradientBoost   1.000000  0.987013  1.000000  0.983296"
      ]
     },
     "execution_count": 33,
     "metadata": {},
     "output_type": "execute_result"
    }
   ],
   "source": [
    "#Gradient Boost\n",
    "\n",
    "model_name = 'GradientBoost'\n",
    "param_grid = {'max_features':['auto', 'log2'], 'max_depth':[5,10,15,20,50], 'learning_rate':[0.01,0.1,1]}\n",
    "\n",
    "model =  GradientBoostingClassifier(random_state = 10, n_estimators = 500)\n",
    "\n",
    "grid_search = GridSearchCV(model, param_grid, cv=5)\n",
    "grid_search.fit(X_train_eff_class, y_train_eff_class)\n",
    "\n",
    "print('Best parameters for efficiency classification {}'.format(grid_search.best_params_))\n",
    "\n",
    "#Accuracy\n",
    "train_acc = grid_search.score(X_train_eff_class, y_train_eff_class)\n",
    "test_acc = grid_search.score(X_test_eff_class, y_test_eff_class)\n",
    "\n",
    "#f1 score\n",
    "train_f1 = f1_score(y_train_eff_class, grid_search.predict(X_train_eff_class), average= 'macro')\n",
    "test_f1 = f1_score(y_test_eff_class, grid_search.predict(X_test_eff_class), average= 'macro')\n",
    "\n",
    "#Saving results\n",
    "model_results_classification = model_results_classification.append(pd.Series({'model':model_name,'train_acc':train_acc, 'test_acc':test_acc, 'train_f1':train_f1,'test_f1':test_f1}),ignore_index=True)\n",
    "model_results_classification"
   ]
  },
  {
   "cell_type": "markdown",
   "metadata": {},
   "source": [
    "#### Neural networks"
   ]
  },
  {
   "cell_type": "code",
   "execution_count": 34,
   "metadata": {
    "collapsed": true
   },
   "outputs": [],
   "source": [
    "from keras.wrappers.scikit_learn import KerasClassifier\n",
    "\n",
    "def create_model_classifier():\n",
    "    #create model\n",
    "    model = Sequential()\n",
    "    model.add(Dense(8, input_dim=8, activation='relu'))\n",
    "    model.add(Dense(4, activation='relu')) #hidden layer\n",
    "    model.add(Dense(3,activation='sigmoid')) #output layer\n",
    "    model.compile(loss='categorical_crossentropy', optimizer='adam', metrics=['accuracy'])\n",
    "    return model\n"
   ]
  },
  {
   "cell_type": "markdown",
   "metadata": {},
   "source": [
    "The final version of the model has following architecture\n",
    "\n",
    "1. Input layer with 8 nodes (same as input columns) with relu activation function\n",
    "2. Hidden layer 1 with 4 nodes and relu activation function\n",
    "3. Output layer with 3 nodes(probability of each class) with sigmoid activation function\n",
    "4. We have used categorical cross entropy as loss function with Adam optimzer (default learning rate of 0.01)"
   ]
  },
  {
   "cell_type": "code",
   "execution_count": 35,
   "metadata": {
    "collapsed": true
   },
   "outputs": [],
   "source": [
    "from keras.utils import np_utils\n",
    "\n",
    "# convert integers to dummy variables (i.e. one hot encoded)\n",
    "y_train_tns = np_utils.to_categorical(y_train_eff_class)\n",
    "y_test_tns = np_utils.to_categorical(y_test_eff_class)"
   ]
  },
  {
   "cell_type": "markdown",
   "metadata": {},
   "source": [
    "The model is trained for following grid to select the best paramters\n",
    "\n",
    "- epochs = 50 and 200\n",
    "- batch size = 10, 50 and 100"
   ]
  },
  {
   "cell_type": "code",
   "execution_count": 36,
   "metadata": {},
   "outputs": [
    {
     "name": "stdout",
     "output_type": "stream",
     "text": [
      "Best parameters for efficiency classification {'batch_size': 10, 'epochs': 200}\n"
     ]
    }
   ],
   "source": [
    "#Model training\n",
    "\n",
    "model_name = 'Neural_Networks'\n",
    "param_grid = {'epochs':[50, 200] , 'batch_size':[10, 50, 100]}\n",
    "\n",
    "model = KerasClassifier(build_fn = create_model_classifier , verbose = 0)\n",
    "\n",
    "grid_search = GridSearchCV(model , param_grid , cv =5)\n",
    "\n",
    "grid_search.fit(X_train_eff_class, y_train_tns)\n",
    "\n",
    "print('Best parameters for efficiency classification {}'.format(grid_search.best_params_))\n",
    "\n",
    "#Accuracy\n",
    "train_acc = accuracy_score(y_train_eff_class, grid_search.predict(X_train_eff_class))\n",
    "test_acc = accuracy_score(y_train_eff_class, grid_search.predict(X_train_eff_class))\n",
    "\n",
    "#f1 score\n",
    "train_f1 = f1_score(y_train_eff_class, grid_search.predict(X_train_eff_class), average= 'macro')\n",
    "test_f1 = f1_score(y_test_eff_class, grid_search.predict(X_test_eff_class), average= 'macro')"
   ]
  },
  {
   "cell_type": "code",
   "execution_count": 37,
   "metadata": {},
   "outputs": [
    {
     "data": {
      "text/html": [
       "<div>\n",
       "<style>\n",
       "    .dataframe thead tr:only-child th {\n",
       "        text-align: right;\n",
       "    }\n",
       "\n",
       "    .dataframe thead th {\n",
       "        text-align: left;\n",
       "    }\n",
       "\n",
       "    .dataframe tbody tr th {\n",
       "        vertical-align: top;\n",
       "    }\n",
       "</style>\n",
       "<table border=\"1\" class=\"dataframe\">\n",
       "  <thead>\n",
       "    <tr style=\"text-align: right;\">\n",
       "      <th></th>\n",
       "      <th>model</th>\n",
       "      <th>train_acc</th>\n",
       "      <th>test_acc</th>\n",
       "      <th>train_f1</th>\n",
       "      <th>test_f1</th>\n",
       "    </tr>\n",
       "  </thead>\n",
       "  <tbody>\n",
       "    <tr>\n",
       "      <th>0</th>\n",
       "      <td>Logistic</td>\n",
       "      <td>0.885993</td>\n",
       "      <td>0.902597</td>\n",
       "      <td>0.818092</td>\n",
       "      <td>0.809335</td>\n",
       "    </tr>\n",
       "    <tr>\n",
       "      <th>1</th>\n",
       "      <td>LinearSVM</td>\n",
       "      <td>0.885993</td>\n",
       "      <td>0.902597</td>\n",
       "      <td>0.818092</td>\n",
       "      <td>0.809335</td>\n",
       "    </tr>\n",
       "    <tr>\n",
       "      <th>2</th>\n",
       "      <td>Radial_SVM</td>\n",
       "      <td>0.988599</td>\n",
       "      <td>0.980519</td>\n",
       "      <td>0.988165</td>\n",
       "      <td>0.972685</td>\n",
       "    </tr>\n",
       "    <tr>\n",
       "      <th>3</th>\n",
       "      <td>Random_Forest</td>\n",
       "      <td>1.000000</td>\n",
       "      <td>0.980519</td>\n",
       "      <td>1.000000</td>\n",
       "      <td>0.965185</td>\n",
       "    </tr>\n",
       "    <tr>\n",
       "      <th>4</th>\n",
       "      <td>GradientBoost</td>\n",
       "      <td>1.000000</td>\n",
       "      <td>0.987013</td>\n",
       "      <td>1.000000</td>\n",
       "      <td>0.983296</td>\n",
       "    </tr>\n",
       "    <tr>\n",
       "      <th>5</th>\n",
       "      <td>Neural_Networks</td>\n",
       "      <td>0.982085</td>\n",
       "      <td>0.982085</td>\n",
       "      <td>0.982888</td>\n",
       "      <td>0.972685</td>\n",
       "    </tr>\n",
       "  </tbody>\n",
       "</table>\n",
       "</div>"
      ],
      "text/plain": [
       "             model  train_acc  test_acc  train_f1   test_f1\n",
       "0         Logistic   0.885993  0.902597  0.818092  0.809335\n",
       "1        LinearSVM   0.885993  0.902597  0.818092  0.809335\n",
       "2       Radial_SVM   0.988599  0.980519  0.988165  0.972685\n",
       "3    Random_Forest   1.000000  0.980519  1.000000  0.965185\n",
       "4    GradientBoost   1.000000  0.987013  1.000000  0.983296\n",
       "5  Neural_Networks   0.982085  0.982085  0.982888  0.972685"
      ]
     },
     "execution_count": 37,
     "metadata": {},
     "output_type": "execute_result"
    }
   ],
   "source": [
    "#Saving results\n",
    "model_results_classification = model_results_classification.append(pd.Series({'model':model_name,'train_acc':train_acc, 'test_acc':test_acc, 'train_f1':train_f1,'test_f1':test_f1}),ignore_index=True)\n",
    "model_results_classification"
   ]
  },
  {
   "cell_type": "code",
   "execution_count": 38,
   "metadata": {},
   "outputs": [
    {
     "data": {
      "text/plain": [
       "Text(0.5,1,'Train and Test accuracy for Efficiency classifier')"
      ]
     },
     "execution_count": 38,
     "metadata": {},
     "output_type": "execute_result"
    },
    {
     "data": {
      "image/png": "[encoded data removed]",
      "text/plain": [
       "<matplotlib.figure.Figure at 0x230d75938d0>"
      ]
     },
     "metadata": {},
     "output_type": "display_data"
    }
   ],
   "source": [
    "cols = ['model','train_acc','test_acc']\n",
    "model_results_classification[cols].set_index('model').plot(kind = 'bar');\n",
    "plt.title('Train and Test accuracy for Efficiency classifier')\n",
    "#"
   ]
  },
  {
   "cell_type": "code",
   "execution_count": 39,
   "metadata": {},
   "outputs": [
    {
     "data": {
      "text/plain": [
       "Text(0.5,1,'Train and Test accuracy for Efficiency classifier')"
      ]
     },
     "execution_count": 39,
     "metadata": {},
     "output_type": "execute_result"
    },
    {
     "data": {
      "image/png": "[encoded data removed]",
      "text/plain": [
       "<matplotlib.figure.Figure at 0x230f2a217f0>"
      ]
     },
     "metadata": {},
     "output_type": "display_data"
    }
   ],
   "source": [
    "cols = ['model','train_f1','test_f1']\n",
    "model_results_classification[cols].set_index('model').plot(kind = 'bar');\n",
    "plt.title('Train and Test accuracy for Efficiency classifier')\n",
    "#"
   ]
  },
  {
   "cell_type": "markdown",
   "metadata": {},
   "source": [
    "### Predicting Energy Efficiency Class"
   ]
  },
  {
   "cell_type": "markdown",
   "metadata": {},
   "source": [
    "- Neural networks along with radial SVM performed the best for the classification problem with highest highest accuracy of 97.2 with no overfitting\n",
    "- The best parameters for the models are batch size of 10 and 200 epochs"
   ]
  },
  {
   "cell_type": "code",
   "execution_count": null,
   "metadata": {},
   "outputs": [],
   "source": []
  }
 ],
 "metadata": {
  "kernelspec": {
   "display_name": "Python 3",
   "language": "python",
   "name": "python3"
  },
  "language_info": {
   "codemirror_mode": {
    "name": "ipython",
    "version": 3
   },
   "file_extension": ".py",
   "mimetype": "text/x-python",
   "name": "python",
   "nbconvert_exporter": "python",
   "pygments_lexer": "ipython3",
   "version": "3.6.5"
  }
 },
 "nbformat": 4,
 "nbformat_minor": 2
}
